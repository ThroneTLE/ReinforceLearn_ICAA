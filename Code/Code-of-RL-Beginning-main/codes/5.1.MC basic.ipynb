{
 "cells": [
  {
   "cell_type": "code",
   "execution_count": 1,
   "id": "0177b8be-3392-4c5a-b8ca-ccd3832f1724",
   "metadata": {
    "ExecuteTime": {
     "end_time": "2025-09-08T13:02:15.370214Z",
     "start_time": "2025-09-08T13:02:15.035041500Z"
    }
   },
   "outputs": [],
   "source": [
    "import numpy as np     #只需要下载numpy库即可\n",
    "import random\n",
    "import GridWorld_v2"
   ]
  },
  {
   "cell_type": "code",
   "execution_count": 7,
   "id": "6ec328c7-b310-4c31-9462-be10cea730ac",
   "metadata": {
    "ExecuteTime": {
     "end_time": "2025-09-08T13:02:50.902373900Z",
     "start_time": "2025-09-08T13:02:50.878419500Z"
    }
   },
   "outputs": [
    {
     "name": "stdout",
     "output_type": "stream",
     "text": [
      "⬜️⬜️⬜️⬜️⬜️\n",
      "⬜️🚫🚫⬜️⬜️\n",
      "⬜️⬜️🚫⬜️⬜️\n",
      "⬜️🚫✅🚫⬜️\n",
      "⬜️🚫⬜️⬜️⬜️\n",
      "<bound method GridWorld_v2.showPolicy of <GridWorld_v2.GridWorld_v2 object at 0x0000028C27F29810>>\n",
      "➡️⬇️➡️⬅️⬆️\n",
      "⬇️⏩️⏩️🔄⬇️\n",
      "🔄🔄⏫️⬅️➡️\n",
      "⬅️🔄✅🔄⬇️\n",
      "⬆️⏪⬆️➡️🔄\n"
     ]
    }
   ],
   "source": [
    "gamma = 0.9   #折扣因子，越接近0越近视\n",
    "\n",
    "rows = 5      #记得行数和列数这里要同步改\n",
    "columns = 5\n",
    "# gridworld = GridWorld_v2.GridWorld_v2(rows=rows, columns=columns, forbiddenAreaNums=8, targetNums=2, seed = 52,forbiddenAreaScore=-10)\n",
    "# gridworld = GridWorld_v2.GridWorld_v2(desc = [\".#\",\".T\"])             #赵老师4-1的例子\n",
    "# gridworld = GridWorld_v2.GridWorld_v2(desc = [\"##.T\",\"...#\",\"....\"])  #随便弄的例子\n",
    "gridworld = GridWorld_v2.GridWorld_v2(forbiddenAreaScore=-10, score=1,desc = [\".....\",\".##..\",\"..#..\",\".#T#.\",\".#...\"]) \n",
    "gridworld.show()\n",
    "\n",
    "trajectorySteps = 100\n",
    "\n",
    "value = np.zeros(rows*columns)       #初始化可以任意，也可以全0\n",
    "qtable = np.zeros((rows*columns,5))  #初始化，这里主要是初始化维数，里面的内容会被覆盖所以无所谓\n",
    "\n",
    "# np.random.seed(50)\n",
    "policy = np.eye(5)[np.random.randint(0,5,size=(rows*columns))] #五个action的概率值\n",
    "print(gridworld.showPolicy)\n",
    "gridworld.showPolicy(policy)\n",
    "# gridworld.showPolicy(policy)"
   ]
  },
  {
   "cell_type": "code",
   "execution_count": 8,
   "id": "9a59115c-1e07-440a-b885-5003eebcd8f8",
   "metadata": {
    "ExecuteTime": {
     "end_time": "2025-09-08T13:03:01.215377600Z",
     "start_time": "2025-09-08T13:02:52.449132900Z"
    }
   },
   "outputs": [
    {
     "name": "stdout",
     "output_type": "stream",
     "text": [
      "➡️⬇️➡️⬅️⬆️\n",
      "⬇️⏩️⏩️🔄⬇️\n",
      "🔄🔄⏫️⬅️➡️\n",
      "⬅️🔄✅🔄⬇️\n",
      "⬆️⏪⬆️➡️🔄\n",
      "random policy\n",
      "125.0\n",
      "[-19.         -99.99760947 -80.09760947 -99.99760947 -88.99760947]\n",
      "[-88.99760947   0.         -81.09760947 -17.28976095 -80.09760947]\n",
      "⬇️➡️➡️⬇️⬅️\n",
      "⬇️⏬⏫️⬆️⬅️\n",
      "⬆️⬅️⏪⬆️⬇️\n",
      "⬆️⏫️✅⏩️⬇️\n",
      "🔄⏪➡️➡️⬆️\n",
      "183425.5992571571\n",
      "183425.5992571571\n",
      "[-10. -10.   0. -10.  -8.]\n",
      "[ -8.   0.  -1. -10.   0.]\n",
      "➡️➡️➡️➡️⬇️\n",
      "⬆️⏫️⏫️⬆️⬆️\n",
      "⬆️⬅️⏩️⬆️⬆️\n",
      "⬆️⏫️✅⏫️⬆️\n",
      "⬆️⏩️➡️➡️⬆️\n",
      "152931.95633450948\n",
      "152931.95633450948\n",
      "[-10. -10.   0. -10.   1.]\n",
      "[  1.   0.  -1. -10.   0.]\n",
      "➡️➡️➡️➡️⬇️\n",
      "⬆️⏫️⏫️⬆️⬆️\n",
      "⬆️⬅️⏬⬆️⬆️\n",
      "⬆️⏩️✅⏪⬆️\n",
      "⬆️⏩️⬆️➡️⬆️\n",
      "405.0\n",
      "405.0\n",
      "[-1.00023905 -1.00023905  8.99976095 -1.00023905  9.99976095]\n",
      "[ 9.99976095  0.          7.99976095 -1.90023905  8.99976095]\n",
      "➡️➡️➡️➡️⬇️\n",
      "⬆️⏫️⏫️⬆️⬆️\n",
      "⬆️⬅️⏬⬆️⬆️\n",
      "⬆️⏩️✅⏪⬆️\n",
      "⬆️⏩️⬆️⬅️⬆️\n",
      "2352.9230647891027\n",
      "2352.9230647891027\n",
      "[-1.00023905 -1.00023905  8.99976095 -1.00023905  9.99976095]\n",
      "[ 9.99976095  8.09976095  7.99976095 -1.90023905  8.99976095]\n",
      "➡️➡️➡️➡️⬇️\n",
      "⬆️⏫️⏫️⬆️⬆️\n",
      "⬆️⬅️⏬⬆️⬆️\n",
      "⬆️⏩️✅⏪⬆️\n",
      "⬆️⏩️⬆️⬅️⬅️\n",
      "328.0306370259419\n",
      "328.0306370259419\n",
      "[-1.00023905 -1.00023905  8.99976095 -1.00023905  9.99976095]\n",
      "[ 9.99976095  8.09976095  7.99976095 -1.90023905  8.99976095]\n",
      "➡️➡️➡️➡️⬇️\n",
      "⬆️⏫️⏫️⬆️⬆️\n",
      "⬆️⬅️⏬⬆️⬆️\n",
      "⬆️⏩️✅⏪⬇️\n",
      "⬆️⏩️⬆️⬅️⬅️\n",
      "265.70307335192075\n",
      "265.70307335192075\n",
      "[-1.00023905 -1.00023905  8.99976095 -1.00023905  9.99976095]\n",
      "[ 9.99976095  8.09976095  7.99976095 -1.90023905  8.99976095]\n",
      "➡️➡️➡️➡️⬇️\n",
      "⬆️⏫️⏫️⬆️⬆️\n",
      "⬆️⬅️⏬⬆️⬇️\n",
      "⬆️⏩️✅⏪⬇️\n",
      "⬆️⏩️⬆️⬅️⬅️\n",
      "215.2179210453017\n",
      "215.2179210453017\n",
      "[-1.00023905 -1.00023905  8.99976095 -1.00023905  9.99976095]\n",
      "[ 9.99976095  8.09976095  7.99976095 -1.90023905  8.99976095]\n",
      "➡️➡️➡️➡️⬇️\n",
      "⬆️⏫️⏫️⬆️⬇️\n",
      "⬆️⬅️⏬➡️⬇️\n",
      "⬆️⏩️✅⏪⬇️\n",
      "⬆️⏩️⬆️⬅️⬅️\n",
      "174.32510451934456\n",
      "174.32510451934456\n",
      "[-1.00023905 -1.00023905  8.99976095 -1.00023905  9.99976095]\n",
      "[ 9.99976095  8.09976095  7.99976095 -1.90023905  8.99976095]\n",
      "➡️➡️➡️➡️⬇️\n",
      "⬆️⏫️⏫️➡️⬇️\n",
      "⬆️⬅️⏬➡️⬇️\n",
      "⬆️⏩️✅⏪⬇️\n",
      "⬆️⏩️⬆️⬅️⬅️\n",
      "1005.2058492449106\n",
      "1005.2058492449106\n",
      "[-1.00023905 -1.00023905  8.99976095 -1.00023905  9.99976095]\n",
      "[ 9.99976095  8.09976095  7.99976095 -1.90023905  8.99976095]\n",
      "➡️➡️➡️➡️⬇️\n",
      "⬆️⏫️⏩️➡️⬇️\n",
      "⬆️⬅️⏬➡️⬇️\n",
      "⬆️⏩️✅⏪⬇️\n",
      "⬆️⏩️⬆️⬅️⬅️\n",
      "4.129261038120451\n",
      "4.129261038120451\n",
      "[-1.00023905 -1.00023905  8.99976095 -1.00023905  9.99976095]\n",
      "[ 9.99976095  8.09976095  7.99976095 -1.90023905  8.99976095]\n",
      "➡️➡️➡️➡️⬇️\n",
      "⬆️⏫️⏩️➡️⬇️\n",
      "⬆️⬅️⏬➡️⬇️\n",
      "⬆️⏩️✅⏪⬇️\n",
      "⬆️⏩️⬆️⬅️⬅️\n",
      "3.3447014408775724\n",
      "3.3447014408775724\n",
      "[-1.00023905 -1.00023905  8.99976095 -1.00023905  9.99976095]\n",
      "[ 9.99976095  8.09976095  7.99976095 -1.90023905  8.99976095]\n",
      "➡️➡️➡️➡️⬇️\n",
      "⬆️⏫️⏩️➡️⬇️\n",
      "⬆️⬅️⏬➡️⬇️\n",
      "⬆️⏩️✅⏪⬇️\n",
      "⬆️⏩️⬆️⬅️⬅️\n",
      "0.0\n"
     ]
    }
   ],
   "source": [
    "#通过采样的方法计算action value，model free的话意味着不知道整个gridworld的概率了，所以不能直接套贝尔曼方程迭代求解\n",
    "gridworld.showPolicy(policy)\n",
    "print(\"random policy\")\n",
    "qtable = np.zeros((rows*columns,5))\n",
    "qtable_pre = qtable.copy()+1\n",
    "while(np.sum((qtable_pre-qtable)**2)>0.001):\n",
    "    print(np.sum((qtable_pre-qtable)**2))\n",
    "    qtable_pre = qtable.copy()\n",
    "    #通过采样获得action-value的值\n",
    "    for i in range(rows*columns):\n",
    "        for j in range(5):\n",
    "            Trajectory = gridworld.getTrajectoryScore(nowState=i, action=j, policy=policy, steps=trajectorySteps)\n",
    "            \n",
    "            # 注意这里的返回值是大小为(trajectorySteps+1)的元组列表，因为把第一个动作也加入进去了\n",
    "            # a = r + gamma*r1 + gamma*gamma*r2 + gamma*gamma*gamma*r3 ……\n",
    "            # 返回值是 S A R\n",
    "            \n",
    "            tmp = Trajectory[trajectorySteps][2]\n",
    "            for k in range(trajectorySteps-1,-1,-1):\n",
    "                tmp = tmp*gamma + Trajectory[k][2]  #细节从后往前优化算法\n",
    "            # print(tmp)\n",
    "            \n",
    "            qtable[i][j] = tmp #这里是通过采样，获得action value的值\n",
    "\n",
    "    policy = np.eye(5)[np.argmax(qtable,axis=1)]\n",
    "    print(qtable[17])\n",
    "    print(qtable[22])\n",
    "    # policy = np.eye(5)[np.argmax(qtable,axis=1)]  #qtable的最优值作为更新策略，并用独热码来表示\n",
    "    gridworld.showPolicy(policy)\n",
    "    print(np.sum((qtable_pre-qtable)**2))\n"
   ]
  },
  {
   "cell_type": "code",
   "execution_count": 3,
   "id": "2015e134-e1b0-41bf-9f36-1de26026daac",
   "metadata": {
    "ExecuteTime": {
     "end_time": "2025-09-08T13:02:24.276850Z",
     "start_time": "2025-09-08T13:02:24.271776600Z"
    }
   },
   "outputs": [],
   "source": []
  },
  {
   "cell_type": "code",
   "execution_count": 3,
   "id": "d3ca3537-d7fa-4ec4-a315-d74805af4178",
   "metadata": {
    "ExecuteTime": {
     "end_time": "2025-09-08T13:02:24.291351Z",
     "start_time": "2025-09-08T13:02:24.277371600Z"
    }
   },
   "outputs": [],
   "source": []
  },
  {
   "cell_type": "code",
   "execution_count": 3,
   "id": "5fdb1c26-1133-420b-b850-c0a3b4916d1b",
   "metadata": {
    "ExecuteTime": {
     "end_time": "2025-09-08T13:02:24.291351Z",
     "start_time": "2025-09-08T13:02:24.283133600Z"
    }
   },
   "outputs": [],
   "source": []
  }
 ],
 "metadata": {
  "kernelspec": {
   "display_name": "Python 3 (ipykernel)",
   "language": "python",
   "name": "python3"
  },
  "language_info": {
   "codemirror_mode": {
    "name": "ipython",
    "version": 3
   },
   "file_extension": ".py",
   "mimetype": "text/x-python",
   "name": "python",
   "nbconvert_exporter": "python",
   "pygments_lexer": "ipython3",
   "version": "3.8.18"
  }
 },
 "nbformat": 4,
 "nbformat_minor": 5
}
